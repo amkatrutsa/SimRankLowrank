{
 "cells": [
  {
   "cell_type": "markdown",
   "metadata": {},
   "source": [
    "## SimRankLowrank demo"
   ]
  },
  {
   "cell_type": "code",
   "execution_count": 73,
   "metadata": {
    "collapsed": true
   },
   "outputs": [],
   "source": [
    "%matplotlib inline\n",
    "import numpy as np\n",
    "import scipy.io as sio\n",
    "import scipy.sparse as spsp\n",
    "import matplotlib.pyplot as plt\n",
    "from sklearn.preprocessing import normalize\n",
    "from pandas import read_csv"
   ]
  },
  {
   "cell_type": "code",
   "execution_count": 113,
   "metadata": {
    "collapsed": false
   },
   "outputs": [
    {
     "name": "stdout",
     "output_type": "stream",
     "text": [
      "Number of vertices = 4096\n",
      "Number of edges = 12264\n"
     ]
    }
   ],
   "source": [
    "graph_filename_mat = \"./data/delaunay_n12.mat\"\n",
    "c = 0.3\n",
    "num_iter = 20\n",
    "W = sio.loadmat(graph_filename_mat)['Problem'][0][0][2]\n",
    "C = normalize(W, norm='l1', axis=0)\n",
    "C = np.sqrt(c) * C\n",
    "print \"Number of vertices =\", C.shape[0]\n",
    "print \"Number of edges =\", C.nnz / 2"
   ]
  },
  {
   "cell_type": "markdown",
   "metadata": {},
   "source": [
    "## Compute correct SimRank with naive aproach"
   ]
  },
  {
   "cell_type": "code",
   "execution_count": 20,
   "metadata": {
    "collapsed": true
   },
   "outputs": [],
   "source": [
    "def simrank_naive(W, k):\n",
    "    S = np.eye(max(W.shape))\n",
    "    for i in range(int(k)):\n",
    "        S = W.T.dot(S)\n",
    "        S = W.T.dot(S.T)\n",
    "        for j in xrange(max(W.shape)):\n",
    "            S[j,j] = 1\n",
    "    return S"
   ]
  },
  {
   "cell_type": "code",
   "execution_count": 29,
   "metadata": {
    "collapsed": false
   },
   "outputs": [],
   "source": [
    "S_true = simrank_naive(C, num_iter)"
   ]
  },
  {
   "cell_type": "markdown",
   "metadata": {},
   "source": [
    "## Compute SimRank lowrank approximation\n",
    "\n",
    "Our approach in SimRank approximation is presented in the following equation:\n",
    "$$\n",
    "\\tilde{S} = I + C^{\\top}C - \\text{diag}(C^{\\top}C) + UDU^{\\top}.\n",
    "$$\n",
    "The matrix $C$ is the normalized by columns and scaled by $\\sqrt{c}$ adjacency matrix of the graph. The matrix $U$ is lowrank and the matrix $D$ is diagonal."
   ]
  },
  {
   "cell_type": "code",
   "execution_count": 108,
   "metadata": {
    "collapsed": false
   },
   "outputs": [],
   "source": [
    "num_iter = 50\n",
    "rank = 100\n",
    "oversampl = 0\n",
    "U_file = \"./data/U_del12.csv\"\n",
    "d_file = \"./data/d_del12.csv\"\n",
    "graph_filename_mtx = graph_filename_mat.split(\"/\")[2].split(\".\")[0] + \".mtx\" \n",
    "graph_filename_mtx = \"/\".join(graph_filename_mat.split(\"/\")[0:2]) + \"/\" + graph_filename_mtx"
   ]
  },
  {
   "cell_type": "code",
   "execution_count": null,
   "metadata": {
    "collapsed": false,
    "scrolled": true
   },
   "outputs": [],
   "source": [
    "!./ccode/build/simrank_lowrank -g $graph_filename_mtx -i $num_iter -c $c -r $rank -s $oversampl -u $U_file -d $d_file"
   ]
  },
  {
   "cell_type": "code",
   "execution_count": 110,
   "metadata": {
    "collapsed": false
   },
   "outputs": [],
   "source": [
    "U = read_csv(\"./data/U_del12.csv\", header=None)\n",
    "d = np.array(read_csv(\"./data/d_del12.csv\", header=None))\n",
    "D = np.diag(d[:, 0])"
   ]
  },
  {
   "cell_type": "code",
   "execution_count": 111,
   "metadata": {
    "collapsed": false
   },
   "outputs": [],
   "source": [
    "CTC = C.T.dot(C)\n",
    "S_appr = np.eye(C.shape[0]) + CTC - np.diag(CTC.diagonal()) + U.dot(D).dot(U.T)"
   ]
  },
  {
   "cell_type": "code",
   "execution_count": 112,
   "metadata": {
    "collapsed": false
   },
   "outputs": [
    {
     "name": "stdout",
     "output_type": "stream",
     "text": [
      "Difference in Frobenius norm = 0.0138945330381\n",
      "Difference in l2 norm = 0.0697796429933\n"
     ]
    }
   ],
   "source": [
    "print \"Difference in Frobenius norm =\", np.linalg.norm(S_appr - S_true) / np.linalg.norm(S_true)\n",
    "print \"Difference in l2 norm =\", np.linalg.norm(S_appr - S_true, 2) / np.linalg.norm(S_true, 2)"
   ]
  }
 ],
 "metadata": {
  "kernelspec": {
   "display_name": "Python 2",
   "language": "python",
   "name": "python2"
  },
  "language_info": {
   "codemirror_mode": {
    "name": "ipython",
    "version": 2
   },
   "file_extension": ".py",
   "mimetype": "text/x-python",
   "name": "python",
   "nbconvert_exporter": "python",
   "pygments_lexer": "ipython2",
   "version": "2.7.11"
  }
 },
 "nbformat": 4,
 "nbformat_minor": 0
}
